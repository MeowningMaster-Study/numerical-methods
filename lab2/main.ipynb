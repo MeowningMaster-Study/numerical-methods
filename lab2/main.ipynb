{
 "cells": [
  {
   "cell_type": "markdown",
   "metadata": {},
   "source": [
    "Розв'язати СЛАР двома методами:\n",
    "* Гауса з вибором головного по стовпцях (прямий)\n",
    "* Якобі (ітераційний)"
   ]
  },
  {
   "cell_type": "code",
   "execution_count": 146,
   "metadata": {},
   "outputs": [],
   "source": [
    "import numpy as np\n",
    "\n",
    "# Задамо СЛАР\n",
    "a = np.array([\n",
    "    [10, 1, 3, 1, 4],\n",
    "    [2, 9, 1, 0, 2],\n",
    "    [0, 2, 9, 1, 6],\n",
    "    [1, 3, 1, 10, 2]\n",
    "])\n",
    "\n",
    "# кубічна норма матриці\n",
    "def norm(a):\n",
    "    r = -1\n",
    "    for i in range(len(a)):\n",
    "        sum = 0\n",
    "        for j in range(len(a[i])):\n",
    "            sum += abs(a[i][j])\n",
    "        r = max(r, sum)\n",
    "    return r"
   ]
  },
  {
   "cell_type": "markdown",
   "metadata": {},
   "source": [
    "**Метод Гауса з вибором головного по стовпцях**"
   ]
  },
  {
   "cell_type": "code",
   "execution_count": 147,
   "metadata": {},
   "outputs": [
    {
     "name": "stdout",
     "output_type": "stream",
     "text": [
      "gauss: [0.19069707511918563, 0.10952196881845122, 0.6329081303955677, 0.0847828888029893]\n",
      "determinant: 7761.0\n"
     ]
    }
   ],
   "source": [
    "def gauss(a):\n",
    "    swaps = 0\n",
    "    maxElements = []\n",
    "\n",
    "    # приведемо матрицю до верхнього трикутного вигляду\n",
    "    for l in range(len(a)):\n",
    "        maxElement = a[l][l]\n",
    "        maxIndex = l\n",
    "        for i in range(l + 1, len(a)):\n",
    "            if a[i][l] > maxElement:\n",
    "                maxElement = a[i][l]\n",
    "                maxIndex = i\n",
    "        maxElements.append(maxElement)\n",
    "        if maxIndex != l:\n",
    "            swaps += 1\n",
    "            a[[l, maxIndex]] = a[[maxIndex, l]]\n",
    "        \n",
    "        m = np.identity(len(a))\n",
    "        m[l][l] = 1/ a[l][l]\n",
    "        for i in range(l + 1, len(a)):\n",
    "            m[i][l] = -a[i][l] / a[l][l]\n",
    "        a = np.matmul(m, a)\n",
    "\n",
    "    # зворотній хід, приводимо до діагонального вигляду\n",
    "    for i in range(len(a) - 1, 0, -1):\n",
    "        for j in range(i - 1, -1, -1):\n",
    "            a[j] = np.add(a[j], a[i] * -a[j][i])\n",
    "\n",
    "    # обрахуємо визначник\n",
    "    determinant = (-1) ** swaps * np.prod(maxElements)\n",
    "\n",
    "    # масив розв'язків\n",
    "    roots = []\n",
    "    for i in range(len(a)):\n",
    "        roots.append(a[i][-1])\n",
    "\n",
    "    return roots, determinant\n",
    "\n",
    "r, d = gauss(a)\n",
    "print(f\"gauss: {r}\")\n",
    "print(f\"determinant: {d}\")"
   ]
  },
  {
   "cell_type": "markdown",
   "metadata": {},
   "source": [
    "**Метод Якобі**"
   ]
  },
  {
   "cell_type": "code",
   "execution_count": 151,
   "metadata": {},
   "outputs": [
    {
     "ename": "KeyboardInterrupt",
     "evalue": "",
     "output_type": "error",
     "traceback": [
      "\u001b[0;31m---------------------------------------------------------------------------\u001b[0m",
      "\u001b[0;31mKeyboardInterrupt\u001b[0m                         Traceback (most recent call last)",
      "Cell \u001b[0;32mIn [151], line 35\u001b[0m\n\u001b[1;32m     32\u001b[0m     \u001b[39mreturn\u001b[39;00m x\n\u001b[1;32m     34\u001b[0m \u001b[39mif\u001b[39;00m meetsSufficientCondition(a):\n\u001b[0;32m---> 35\u001b[0m     r \u001b[39m=\u001b[39m jacobi(a)\n\u001b[1;32m     36\u001b[0m     \u001b[39mprint\u001b[39m(\u001b[39mf\u001b[39m\u001b[39m\"\u001b[39m\u001b[39mjacobi: \u001b[39m\u001b[39m{\u001b[39;00mr\u001b[39m}\u001b[39;00m\u001b[39m\"\u001b[39m)\n\u001b[1;32m     37\u001b[0m \u001b[39melse\u001b[39;00m:\n",
      "Cell \u001b[0;32mIn [151], line 23\u001b[0m, in \u001b[0;36mjacobi\u001b[0;34m(a)\u001b[0m\n\u001b[1;32m     21\u001b[0m x \u001b[39m=\u001b[39m np\u001b[39m.\u001b[39mzeros((\u001b[39mlen\u001b[39m(a), \u001b[39m1\u001b[39m))\n\u001b[1;32m     22\u001b[0m \u001b[39mfor\u001b[39;00m i \u001b[39min\u001b[39;00m \u001b[39mrange\u001b[39m(\u001b[39mlen\u001b[39m(a)):\n\u001b[0;32m---> 23\u001b[0m     \u001b[39mfor\u001b[39;00m j \u001b[39min\u001b[39;00m \u001b[39mrange\u001b[39m(\u001b[39mlen\u001b[39m(a[i, :]) \u001b[39m-\u001b[39m \u001b[39m1\u001b[39m):\n\u001b[1;32m     24\u001b[0m         \u001b[39mif\u001b[39;00m i \u001b[39m==\u001b[39m j:\n\u001b[1;32m     25\u001b[0m             \u001b[39mcontinue\u001b[39;00m\n",
      "File \u001b[0;32m~/.local/lib/python3.10/site-packages/debugpy/_vendored/pydevd/_pydevd_frame_eval/pydevd_frame_tracing.py:76\u001b[0m, in \u001b[0;36m_pydev_needs_stop_at_break\u001b[0;34m(line)\u001b[0m\n\u001b[1;32m     65\u001b[0m \u001b[39mdef\u001b[39;00m \u001b[39m_pydev_needs_stop_at_break\u001b[39m(line):\n\u001b[1;32m     66\u001b[0m     \u001b[39m'''\u001b[39;00m\n\u001b[1;32m     67\u001b[0m \u001b[39m    We separate the functionality into 2 functions so that we can generate a bytecode which\u001b[39;00m\n\u001b[1;32m     68\u001b[0m \u001b[39m    generates a spurious line change so that we can do:\u001b[39;00m\n\u001b[0;32m   (...)\u001b[0m\n\u001b[1;32m     74\u001b[0m \u001b[39m        # (which will then trigger a line event).\u001b[39;00m\n\u001b[1;32m     75\u001b[0m \u001b[39m    '''\u001b[39;00m\n\u001b[0;32m---> 76\u001b[0m     t \u001b[39m=\u001b[39m threading\u001b[39m.\u001b[39;49mcurrent_thread()\n\u001b[1;32m     77\u001b[0m     \u001b[39mtry\u001b[39;00m:\n\u001b[1;32m     78\u001b[0m         additional_info \u001b[39m=\u001b[39m t\u001b[39m.\u001b[39madditional_info\n",
      "File \u001b[0;32m/usr/lib64/python3.10/threading.py:1438\u001b[0m, in \u001b[0;36mcurrent_thread\u001b[0;34m()\u001b[0m\n\u001b[1;32m   1431\u001b[0m \u001b[39m\"\"\"Return the current Thread object, corresponding to the caller's thread of control.\u001b[39;00m\n\u001b[1;32m   1432\u001b[0m \n\u001b[1;32m   1433\u001b[0m \u001b[39mIf the caller's thread of control was not created through the threading\u001b[39;00m\n\u001b[1;32m   1434\u001b[0m \u001b[39mmodule, a dummy thread object with limited functionality is returned.\u001b[39;00m\n\u001b[1;32m   1435\u001b[0m \n\u001b[1;32m   1436\u001b[0m \u001b[39m\"\"\"\u001b[39;00m\n\u001b[1;32m   1437\u001b[0m \u001b[39mtry\u001b[39;00m:\n\u001b[0;32m-> 1438\u001b[0m     \u001b[39mreturn\u001b[39;00m _active[get_ident()]\n\u001b[1;32m   1439\u001b[0m \u001b[39mexcept\u001b[39;00m \u001b[39mKeyError\u001b[39;00m:\n\u001b[1;32m   1440\u001b[0m     \u001b[39mreturn\u001b[39;00m _DummyThread()\n",
      "\u001b[0;31mKeyboardInterrupt\u001b[0m: "
     ]
    }
   ],
   "source": [
    "# перевірка на достатню умову збіжності\n",
    "def meetsSufficientCondition(a):\n",
    "    a = np.delete(a, len(a[0, :]) - 1, 1)\n",
    "    for i in range(len(a)):\n",
    "        sum = 0\n",
    "        for j in range(len(a[i, :])):\n",
    "            if i == j:\n",
    "                continue\n",
    "            sum += abs(a[i][j])\n",
    "        if a[i][i] < sum:\n",
    "            return False\n",
    "    return True\n",
    "\n",
    "epsilon = 10e-8\n",
    "\n",
    "def jacobi(a):\n",
    "    x = np.zeros((len(a), 1))\n",
    "    while True:\n",
    "        # виражаємо x_n через x_(n-1)\n",
    "        xPrev = x\n",
    "        x = np.zeros((len(a), 1))\n",
    "        for i in range(len(a)):\n",
    "            for j in range(len(a[i, :]) - 1):\n",
    "                if i == j:\n",
    "                    continue\n",
    "                x[i][0] -= xPrev[j][0] * a[i][j]\n",
    "            x[i][0] += a[i][len(a[i]) - 1]\n",
    "            x[i][0] /= a[i][i]\n",
    "        # умова припинення\n",
    "        if norm(x - xPrev) < epsilon:\n",
    "            break\n",
    "    return x\n",
    "\n",
    "if meetsSufficientCondition(a):\n",
    "    r = jacobi(a)\n",
    "    print(f\"jacobi: {r}\")\n",
    "else:\n",
    "    print(\"jacobi: check failed\")"
   ]
  },
  {
   "cell_type": "markdown",
   "metadata": {},
   "source": [
    "**Число обумовленості**"
   ]
  },
  {
   "cell_type": "code",
   "execution_count": 149,
   "metadata": {},
   "outputs": [
    {
     "name": "stdout",
     "output_type": "stream",
     "text": [
      "conditioning number: 2.2825666795516044\n"
     ]
    }
   ],
   "source": [
    "def conditionNumber(a):\n",
    "    # беремо коефіцієнти рівнянь\n",
    "    c = np.delete(a, len(a[0, :]) - 1, 1)\n",
    "    return norm(c) * norm(np.linalg.inv(c))\n",
    "\n",
    "cn = conditionNumber(a)\n",
    "print(f\"conditioning number: {cn}\")"
   ]
  }
 ],
 "metadata": {
  "kernelspec": {
   "display_name": "Python 3.10.6 64-bit",
   "language": "python",
   "name": "python3"
  },
  "language_info": {
   "codemirror_mode": {
    "name": "ipython",
    "version": 3
   },
   "file_extension": ".py",
   "mimetype": "text/x-python",
   "name": "python",
   "nbconvert_exporter": "python",
   "pygments_lexer": "ipython3",
   "version": "3.10.7"
  },
  "orig_nbformat": 4,
  "vscode": {
   "interpreter": {
    "hash": "e7370f93d1d0cde622a1f8e1c04877d8463912d04d973331ad4851f04de6915a"
   }
  }
 },
 "nbformat": 4,
 "nbformat_minor": 2
}
