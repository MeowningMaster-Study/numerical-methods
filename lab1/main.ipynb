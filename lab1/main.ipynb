{
 "cells": [
  {
   "cell_type": "markdown",
   "metadata": {},
   "source": [
    "# Варіант 88\n",
    "Знайти найменший корiнь нелiнiйного рiвняння $x^4+4x-2=0$ методом релаксацiї i Ньютона з точнiстю $\\epsilon =10^{-4}$. Знайти апрiорну та апостерiорну оцiнку кiлькостi крокiв. Початковий промiжок та початкове наближення обрати однакове для обох методiв (якщо це можливо), порiвняти результати роботи методiв мiж собою."
   ]
  },
  {
   "cell_type": "code",
   "execution_count": 1,
   "metadata": {},
   "outputs": [
    {
     "data": {
      "image/png": "[encoded data removed]",
      "text/plain": [
       "<Figure size 640x480 with 1 Axes>"
      ]
     },
     "metadata": {},
     "output_type": "display_data"
    }
   ],
   "source": [
    "import sympy as sp\n",
    "import numpy as np\n",
    "import matplotlib.pyplot as plt\n",
    "\n",
    "# похибка\n",
    "eps = 1e-4\n",
    "\n",
    "# модель функції\n",
    "x = sp.symbols('x')\n",
    "f = x**4 + 4*x - 2\n",
    "fl = sp.lambdify(x, f)\n",
    "\n",
    "# графік функції\n",
    "def plot():\n",
    "    xs = np.arange(-3, 3, 0.1)\n",
    "    ys = fl(xs)\n",
    "    fig, ax = plt.subplots()\n",
    "    ax.grid()\n",
    "    ax.plot(xs, ys)\n",
    "plot()\n"
   ]
  },
  {
   "cell_type": "markdown",
   "metadata": {},
   "source": [
    "Бачимо, що найменший корінь рівняння знаходиться на проміжку $[-2, -1.5]$."
   ]
  },
  {
   "cell_type": "code",
   "execution_count": 2,
   "metadata": {},
   "outputs": [
    {
     "name": "stdout",
     "output_type": "stream",
     "text": [
      "-17.625\n"
     ]
    }
   ],
   "source": [
    "# межі пошуку\n",
    "start = -2\n",
    "finish = -1.5\n",
    "xs = np.arange(start, finish, eps)\n",
    "print(fl(start)*fl(finish))"
   ]
  },
  {
   "cell_type": "code",
   "execution_count": 3,
   "metadata": {},
   "outputs": [
    {
     "name": "stdout",
     "output_type": "stream",
     "text": [
      "first derivative: 4*x**3 + 4\n",
      "second derivative: 12*x**2\n"
     ]
    }
   ],
   "source": [
    "# перша та друга похідні\n",
    "df = sp.diff(f, x)\n",
    "ddf = sp.diff(df, x)\n",
    "\n",
    "dfl = sp.lambdify(x, df)\n",
    "ddfl = sp.lambdify(x, ddf)\n",
    "\n",
    "print(f'first derivative: {df}')\n",
    "print(f'second derivative: {ddf}')"
   ]
  },
  {
   "cell_type": "markdown",
   "metadata": {},
   "source": [
    "## Метод релаксації"
   ]
  },
  {
   "cell_type": "code",
   "execution_count": 4,
   "metadata": {},
   "outputs": [
    {
     "name": "stdout",
     "output_type": "stream",
     "text": [
      "m1: 9.502700180005487, M1: 28.0\n",
      "tau: 0.053329493353822484\n",
      "Checked\n",
      "Marks:\n",
      "  a priory:  8\n",
      "  a posteriori:  4\n",
      "Iterations: \n",
      "  1: -1.75\n",
      "  2: -1.7297931216589033\n",
      "  3: -1.7279802355638818\n",
      "  4: -1.727779098451927\n"
     ]
    }
   ],
   "source": [
    "def relaxation():\n",
    "    min1 = min(abs(dfl(xs)))\n",
    "    max1 = max(abs(dfl(xs)))\n",
    "    print(f'm1: {min1}, M1: {max1}')\n",
    "\n",
    "    xp = start\n",
    "    x0 = (start + finish) / 2\n",
    "    xi = x0\n",
    "    tau = 2/(max1 + min1)\n",
    "    print(f'tau: {tau}')\n",
    "\n",
    "    # Перевірка на збіжність\n",
    "    v = tau * dfl(x0)\n",
    "    if -2 < v and v < 0:\n",
    "        print('Checked')\n",
    "    \n",
    "\n",
    "    xis = []\n",
    "    # f' < 0 => x_n+1 = x_n + tf(x_n)\n",
    "    while (abs(xi - xp) > eps):\n",
    "        xp = xi\n",
    "        xis.append(xp)\n",
    "        xi = xp + tau * fl(xp)\n",
    "\n",
    "    z0 = abs(x0 - xi)\n",
    "    q = (max1 - min1)/(max1 + min1)\n",
    "    n = int(np.log(abs(z0)/eps)/np.log(1/q)) + 1\n",
    "    print(\"Marks:\")\n",
    "    print(\"  a priory: \", n)\n",
    "    print(\"  a posteriori: \", len(xis))\n",
    "\n",
    "    print('Iterations: ')\n",
    "    for i in range(len(xis)):\n",
    "        print(f'  {i + 1}: {xis[i]}')\n",
    "relaxation()"
   ]
  }
 ],
 "metadata": {
  "kernelspec": {
   "display_name": "Python 3.10.6 64-bit",
   "language": "python",
   "name": "python3"
  },
  "language_info": {
   "codemirror_mode": {
    "name": "ipython",
    "version": 3
   },
   "file_extension": ".py",
   "mimetype": "text/x-python",
   "name": "python",
   "nbconvert_exporter": "python",
   "pygments_lexer": "ipython3",
   "version": "3.10.7"
  },
  "orig_nbformat": 4,
  "vscode": {
   "interpreter": {
    "hash": "e7370f93d1d0cde622a1f8e1c04877d8463912d04d973331ad4851f04de6915a"
   }
  }
 },
 "nbformat": 4,
 "nbformat_minor": 2
}
